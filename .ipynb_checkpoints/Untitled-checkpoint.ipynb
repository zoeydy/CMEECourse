{
 "cells": [
  {
   "cell_type": "code",
   "execution_count": 1,
   "metadata": {
    "scrolled": false
   },
   "outputs": [
    {
     "name": "stdout",
     "output_type": "stream",
     "text": [
      "[Errno 2] No such file or directory: '/home/zoey/CMEECourseWork jupyter notebook'\n",
      "/home/zoey/Documents/CMEECourseWork\n"
     ]
    }
   ],
   "source": [
    "cd ~/CMEECourseWork | jupyter notebook"
   ]
  },
  {
   "cell_type": "markdown",
   "metadata": {},
   "source": [
    "# Hello\n",
    "## hello\n",
    "```bash\n",
    "sudo apt install r-base\n",
    "```\n",
    "\n",
    "```python3\n",
    "for i in range(5):\n",
    "    print(i)\n",
    "```\n",
    "\n",
    "**This is a fold line**\n",
    "\n",
    "*This is a line*\n",
    "\n",
    "- The first point\n",
    "- The second point\n",
    "\n",
    "`variable=1`\n",
    "\n",
    "$root(a + b = c)$\n",
    "\n",
    "\n",
    "[Click here](http://www.google.com)"
   ]
  }
 ],
 "metadata": {
  "kernelspec": {
   "display_name": "Python 3",
   "language": "python",
   "name": "python3"
  },
  "language_info": {
   "codemirror_mode": {
    "name": "ipython",
    "version": 3
   },
   "file_extension": ".py",
   "mimetype": "text/x-python",
   "name": "python",
   "nbconvert_exporter": "python",
   "pygments_lexer": "ipython3",
   "version": "3.8.5"
  }
 },
 "nbformat": 4,
 "nbformat_minor": 4
}
